{
 "cells": [
  {
   "cell_type": "markdown",
   "id": "e0dabc3b",
   "metadata": {},
   "source": [
    "# ipyvizzu essentials"
   ]
  },
  {
   "cell_type": "markdown",
   "id": "dc7c772f",
   "metadata": {},
   "source": [
    "## #1 How to Create Your First Animated Chart"
   ]
  },
  {
   "cell_type": "markdown",
   "id": "71b79794",
   "metadata": {},
   "source": [
    "### Basic logic of ipyvizzu"
   ]
  },
  {
   "cell_type": "markdown",
   "id": "566602ad",
   "metadata": {},
   "source": [
    "<div>\n",
    "<img src=\"attachment:ipyvizzu-API-structure.svg\" width=\"600\"/>\n",
    "</div>"
   ]
  },
  {
   "cell_type": "markdown",
   "id": "bd71fade",
   "metadata": {},
   "source": [
    "### First example"
   ]
  },
  {
   "cell_type": "code",
   "execution_count": null,
   "id": "48947d42",
   "metadata": {
    "scrolled": true
   },
   "outputs": [],
   "source": [
    "pip install ipyvizzu "
   ]
  },
  {
   "cell_type": "code",
   "execution_count": 2,
   "id": "250cd61a",
   "metadata": {},
   "outputs": [
    {
     "data": {
      "text/html": [
       "<div>\n",
       "<style scoped>\n",
       "    .dataframe tbody tr th:only-of-type {\n",
       "        vertical-align: middle;\n",
       "    }\n",
       "\n",
       "    .dataframe tbody tr th {\n",
       "        vertical-align: top;\n",
       "    }\n",
       "\n",
       "    .dataframe thead th {\n",
       "        text-align: right;\n",
       "    }\n",
       "</style>\n",
       "<table border=\"1\" class=\"dataframe\">\n",
       "  <thead>\n",
       "    <tr style=\"text-align: right;\">\n",
       "      <th></th>\n",
       "      <th>Genres</th>\n",
       "      <th>Kinds</th>\n",
       "      <th>Popularity</th>\n",
       "    </tr>\n",
       "  </thead>\n",
       "  <tbody>\n",
       "    <tr>\n",
       "      <th>0</th>\n",
       "      <td>Pop</td>\n",
       "      <td>Hard</td>\n",
       "      <td>114</td>\n",
       "    </tr>\n",
       "    <tr>\n",
       "      <th>1</th>\n",
       "      <td>Rock</td>\n",
       "      <td>Hard</td>\n",
       "      <td>96</td>\n",
       "    </tr>\n",
       "    <tr>\n",
       "      <th>2</th>\n",
       "      <td>Jazz</td>\n",
       "      <td>Hard</td>\n",
       "      <td>78</td>\n",
       "    </tr>\n",
       "    <tr>\n",
       "      <th>3</th>\n",
       "      <td>Metal</td>\n",
       "      <td>Hard</td>\n",
       "      <td>52</td>\n",
       "    </tr>\n",
       "    <tr>\n",
       "      <th>4</th>\n",
       "      <td>Pop</td>\n",
       "      <td>Smooth</td>\n",
       "      <td>56</td>\n",
       "    </tr>\n",
       "    <tr>\n",
       "      <th>5</th>\n",
       "      <td>Rock</td>\n",
       "      <td>Experimental</td>\n",
       "      <td>36</td>\n",
       "    </tr>\n",
       "    <tr>\n",
       "      <th>6</th>\n",
       "      <td>Jazz</td>\n",
       "      <td>Smooth</td>\n",
       "      <td>174</td>\n",
       "    </tr>\n",
       "  </tbody>\n",
       "</table>\n",
       "</div>"
      ],
      "text/plain": [
       "  Genres         Kinds  Popularity\n",
       "0    Pop          Hard         114\n",
       "1   Rock          Hard          96\n",
       "2   Jazz          Hard          78\n",
       "3  Metal          Hard          52\n",
       "4    Pop        Smooth          56\n",
       "5   Rock  Experimental          36\n",
       "6   Jazz        Smooth         174"
      ]
     },
     "execution_count": 2,
     "metadata": {},
     "output_type": "execute_result"
    }
   ],
   "source": [
    "# Import components, add data to pandas data frame\n",
    "\n",
    "import pandas as pd\n",
    "from ipyvizzu import Chart, Data, Config\n",
    "\n",
    "# Add our data set to a data frame\n",
    "data_frame = pd.read_csv(\n",
    "    \"https://ipyvizzu.vizzuhq.com/latest/assets/data/music_data.csv\"\n",
    ")\n",
    "\n",
    "data = Data()\n",
    "data.add_df(data_frame)\n",
    "\n",
    "data_frame.head(7)"
   ]
  },
  {
   "cell_type": "code",
   "execution_count": 21,
   "id": "7e492b54",
   "metadata": {
    "scrolled": true
   },
   "outputs": [
    {
     "data": {
      "application/javascript": [
       "if (window.IpyVizzu) { window.IpyVizzu.clearInhibitScroll(element); }"
      ]
     },
     "metadata": {},
     "output_type": "display_data"
    },
    {
     "data": {
      "application/javascript": [
       "if (window.IpyVizzu) { window.IpyVizzu.clearInhibitScroll(element); }"
      ]
     },
     "metadata": {},
     "output_type": "display_data"
    },
    {
     "data": {
      "application/javascript": [
       "if (window.IpyVizzu?.version !== '0.16.2') {\n",
       "  class IpyVizzu {\n",
       "    static version = '0.16.2'\n",
       "    static analytics = undefined\n",
       "    static inhibitScroll = false\n",
       "\n",
       "    constructor() {\n",
       "      document.addEventListener(\n",
       "        'wheel',\n",
       "        (evt) => {\n",
       "          IpyVizzu.inhibitScroll = true\n",
       "        },\n",
       "        true\n",
       "      )\n",
       "      document.addEventListener(\n",
       "        'keydown',\n",
       "        (evt) => {\n",
       "          IpyVizzu.inhibitScroll = true\n",
       "        },\n",
       "        true\n",
       "      )\n",
       "      document.addEventListener(\n",
       "        'touchstart',\n",
       "        (evt) => {\n",
       "          IpyVizzu.inhibitScroll = true\n",
       "        },\n",
       "        true\n",
       "      )\n",
       "\n",
       "      this.elements = {}\n",
       "      this.charts = {}\n",
       "      this.controls = {}\n",
       "\n",
       "      this.storage = {}\n",
       "      this.displays = {}\n",
       "\n",
       "      this.events = {}\n",
       "      this.loaded = {}\n",
       "      this.libs = {}\n",
       "    }\n",
       "\n",
       "    static clearInhibitScroll(element) {\n",
       "      IpyVizzu.inhibitScroll = false\n",
       "    }\n",
       "\n",
       "    createChart(element, chartId, vizzulib, divWidth, divHeight) {\n",
       "      this.elements[chartId] = document.createElement('div')\n",
       "      this.elements[chartId].style.cssText = `width: ${divWidth}; height: ${divHeight};`\n",
       "      this.loaded[chartId] = import(vizzulib)\n",
       "      this.charts[chartId] = this.loaded[chartId].then((Vizzu) => {\n",
       "        this.libs[chartId] = Vizzu.default\n",
       "        const VizzuConstructor = Vizzu.default\n",
       "        return new VizzuConstructor(this.elements[chartId]).initializing\n",
       "      })\n",
       "      this._moveHere(chartId, element)\n",
       "    }\n",
       "\n",
       "    animate(element, chartId, animId, displayTarget, scrollEnabled, getChartTarget, chartAnimOpts) {\n",
       "      if (displayTarget === 'end') this._moveHere(chartId, element)\n",
       "      this.controls[chartId] = this.charts[chartId]\n",
       "      this.charts[chartId] = this.charts[chartId].then((chart) => {\n",
       "        if (displayTarget === 'actual') this._moveHere(chartId, element)\n",
       "        this._scroll(chartId, scrollEnabled)\n",
       "        let chartTarget = getChartTarget(this.libs[chartId])\n",
       "        if (typeof chartTarget === 'string') {\n",
       "          chartTarget = this.storage[chartTarget]\n",
       "        } else if (Array.isArray(chartTarget)) {\n",
       "          for (let i = 0; i < chartTarget.length; i++) {\n",
       "            const target = chartTarget[i].target\n",
       "            if (typeof target === 'string') {\n",
       "              chartTarget[i].target = this.storage[target]\n",
       "            }\n",
       "          }\n",
       "        }\n",
       "        chart = chart.animate(chartTarget, chartAnimOpts)\n",
       "        this.controls[animId] = chart\n",
       "        return chart\n",
       "      })\n",
       "    }\n",
       "\n",
       "    store(element, chartId, id) {\n",
       "      this.charts[chartId] = this.charts[chartId].then((chart) => {\n",
       "        this.storage[id] = chart.store()\n",
       "        return chart\n",
       "      })\n",
       "    }\n",
       "\n",
       "    feature(element, chartId, name, enabled) {\n",
       "      this.charts[chartId] = this.charts[chartId].then((chart) => {\n",
       "        chart.feature(name, enabled)\n",
       "        return chart\n",
       "      })\n",
       "    }\n",
       "\n",
       "    setEvent(element, chartId, id, event, handler) {\n",
       "      this.charts[chartId] = this.charts[chartId].then((chart) => {\n",
       "        this.events[id] = handler\n",
       "        chart.on(event, this.events[id])\n",
       "        return chart\n",
       "      })\n",
       "    }\n",
       "\n",
       "    clearEvent(element, chartId, id, event) {\n",
       "      this.charts[chartId] = this.charts[chartId].then((chart) => {\n",
       "        chart.off(event, this.events[id])\n",
       "        return chart\n",
       "      })\n",
       "    }\n",
       "\n",
       "    log(element, chartId, chartProperty) {\n",
       "      this.charts[chartId] = this.charts[chartId].then((chart) => {\n",
       "        console.log(chart[chartProperty])\n",
       "        return chart\n",
       "      })\n",
       "    }\n",
       "\n",
       "    control(element, method, prevId, lastId, ...params) {\n",
       "      this.controls[prevId].then(() => {\n",
       "        this.controls[lastId].activated.then((control) => {\n",
       "          if (method === 'seek') {\n",
       "            const value = params[0]\n",
       "            control[method](value)\n",
       "            return\n",
       "          }\n",
       "          if (method === 'store') {\n",
       "            const id = params[0]\n",
       "            this.storage[id] = control[method]()\n",
       "            return\n",
       "          }\n",
       "          control[method]()\n",
       "        })\n",
       "      })\n",
       "    }\n",
       "\n",
       "    _moveHere(chartId, element) {\n",
       "      element.append(this.elements[chartId])\n",
       "    }\n",
       "\n",
       "    _scroll(chartId, enabled) {\n",
       "      if (!IpyVizzu.inhibitScroll && enabled) {\n",
       "        this.elements[chartId].scrollIntoView({\n",
       "          behavior: 'auto',\n",
       "          block: 'center'\n",
       "        })\n",
       "      }\n",
       "    }\n",
       "\n",
       "    static _hide(element) {\n",
       "      document.getElementById(element.selector.substring(1)).parentNode.style.display = 'none'\n",
       "    }\n",
       "\n",
       "    static _display(prevElement, element) {\n",
       "      if (prevElement.parentNode) {\n",
       "        prevElement.parentNode.style.display = 'none'\n",
       "      }\n",
       "      document.getElementById(element.selector.substring(1)).parentNode.style.display = 'flex'\n",
       "      document.getElementById(element.selector.substring(1)).parentNode.style.margin = 'auto'\n",
       "    }\n",
       "\n",
       "    static changeAnalyticsTo(analytics) {\n",
       "      if (IpyVizzu.analytics !== analytics) {\n",
       "        console.log('ipyvizzu gather usage stats:', analytics)\n",
       "        IpyVizzu.analytics = analytics\n",
       "      }\n",
       "      if (analytics) {\n",
       "        IpyVizzu._addHeadScript()\n",
       "      } else {\n",
       "        IpyVizzu._removeScript('ipyvizzu-analytics-head')\n",
       "      }\n",
       "    }\n",
       "\n",
       "    static _addHeadScript() {\n",
       "      const scriptId = 'ipyvizzu-analytics-head'\n",
       "      if (!IpyVizzu._isScriptAppended(scriptId)) {\n",
       "        const script = document.createElement('script')\n",
       "        script.defer = true\n",
       "        script.src = 'https://plausible.io/js/script.local.js'\n",
       "        script.dataset.domain = 'usage.ipyvizzu.com'\n",
       "        script.id = scriptId\n",
       "        document.getElementsByTagName('head')[0].appendChild(script)\n",
       "      }\n",
       "    }\n",
       "\n",
       "    static _isScriptAppended(id) {\n",
       "      return document.querySelector(`script[id=\"${id}\"]`) !== null\n",
       "    }\n",
       "\n",
       "    static _removeScript(id) {\n",
       "      const script = document.getElementById(id)\n",
       "      if (script) script.remove()\n",
       "    }\n",
       "  }\n",
       "\n",
       "  window.IpyVizzu = IpyVizzu\n",
       "  console.log(`ipyvizzu ${IpyVizzu.version}`)\n",
       "  window.ipyvizzu = new window.IpyVizzu()\n",
       "}\n"
      ]
     },
     "metadata": {},
     "output_type": "display_data"
    },
    {
     "data": {
      "application/javascript": [
       "if (window.IpyVizzu) window.IpyVizzu.changeAnalyticsTo(true);"
      ]
     },
     "metadata": {},
     "output_type": "display_data"
    },
    {
     "data": {
      "application/javascript": [
       "window.ipyvizzu.createChart(element, '924c400', 'https://cdn.jsdelivr.net/npm/vizzu@0.8/dist/vizzu.min.js', '100%', '360px');"
      ]
     },
     "metadata": {},
     "output_type": "display_data"
    },
    {
     "data": {
      "application/javascript": [
       "window.ipyvizzu.animate(element, '924c400', 'c89406c', 'actual', false, lib => { return {\"data\": {\"series\": [{\"name\": \"Genres\", \"values\": [\"Pop\", \"Rock\", \"Jazz\", \"Metal\", \"Pop\", \"Rock\", \"Jazz\", \"Metal\", \"Pop\", \"Rock\", \"Jazz\", \"Metal\"], \"type\": \"dimension\"}, {\"name\": \"Kinds\", \"values\": [\"Hard\", \"Hard\", \"Hard\", \"Hard\", \"Smooth\", \"Experimental\", \"Smooth\", \"Smooth\", \"Experimental\", \"Experimental\", \"Experimental\", \"Experimental\"], \"type\": \"dimension\"}, {\"name\": \"Popularity\", \"values\": [114.0, 96.0, 78.0, 52.0, 56.0, 36.0, 174.0, 121.0, 127.0, 83.0, 94.0, 58.0], \"type\": \"measure\"}]}} }, undefined);"
      ]
     },
     "metadata": {},
     "output_type": "display_data"
    }
   ],
   "source": [
    "# Create empty chart\n",
    "# Rerun this cell if you want to start over\n",
    "\n",
    "chart = Chart(width='100%', height='360px')\n",
    "chart.animate(data)"
   ]
  },
  {
   "cell_type": "code",
   "execution_count": 9,
   "id": "d8fdf366",
   "metadata": {},
   "outputs": [
    {
     "data": {
      "application/javascript": [
       "if (window.IpyVizzu) { window.IpyVizzu.clearInhibitScroll(element); }"
      ]
     },
     "metadata": {},
     "output_type": "display_data"
    },
    {
     "data": {
      "application/javascript": [
       "if (window.IpyVizzu) { window.IpyVizzu.clearInhibitScroll(element); }"
      ]
     },
     "metadata": {},
     "output_type": "display_data"
    },
    {
     "data": {
      "application/javascript": [
       "window.ipyvizzu.animate(element, '0f81992', '6bb2575', 'actual', false, lib => { return {\"config\": {\"x\": \"Genres\", \"y\": \"Popularity\"}} }, undefined);"
      ]
     },
     "metadata": {},
     "output_type": "display_data"
    }
   ],
   "source": [
    "# Create first chart\n",
    "# Default geometry: rectangle\n",
    "\n",
    "chart.animate(\n",
    "    Config(\n",
    "        {\n",
    "            'x': 'Genres',\n",
    "            'y': 'Popularity',\n",
    "        }\n",
    "    )\n",
    ")"
   ]
  },
  {
   "cell_type": "code",
   "execution_count": null,
   "id": "103b8fd8",
   "metadata": {},
   "outputs": [],
   "source": [
    "# Create second chart by adding the dimension to the y-axis and remove it from the x-axis\n",
    "\n",
    "chart.animate(\n",
    "    Config(\n",
    "        {\n",
    "            'x': None,\n",
    "            'y': ['Popularity', 'Genres']\n",
    "        }\n",
    "    )\n",
    ")"
   ]
  },
  {
   "cell_type": "markdown",
   "id": "3cbeaedf",
   "metadata": {},
   "source": [
    "<br></br>"
   ]
  },
  {
   "cell_type": "markdown",
   "id": "d0b6a59b",
   "metadata": {},
   "source": [
    "\n",
    "\n",
    "\n",
    "\n",
    "\n",
    "\n",
    "\n",
    "\n",
    "\n",
    "\n",
    "\n",
    "\n",
    "\n",
    "## #2 How to Change Axes, Add Title & Tooltips"
   ]
  },
  {
   "cell_type": "code",
   "execution_count": null,
   "id": "2fa53223",
   "metadata": {},
   "outputs": [],
   "source": [
    "# Previously on ipyvizzu essentials...\n",
    "\n",
    "chart.animate(data,\n",
    "    Config(\n",
    "        {\n",
    "            'y': ['Popularity', 'Genres']\n",
    "        }\n",
    "    )\n",
    ")"
   ]
  },
  {
   "cell_type": "markdown",
   "id": "7e061667",
   "metadata": {},
   "source": [
    "### Rearrange our chart"
   ]
  },
  {
   "cell_type": "code",
   "execution_count": null,
   "id": "6c8e6b59",
   "metadata": {},
   "outputs": [],
   "source": [
    "# Create a bar chart configuration by adding the measure to the x-axis instead of the y-axis\n",
    "\n",
    "chart.animate(\n",
    "    Config(\n",
    "        {\n",
    "            'x': 'Popularity',\n",
    "            'y': 'Genres'\n",
    "        }\n",
    "    )\n",
    ")"
   ]
  },
  {
   "cell_type": "code",
   "execution_count": null,
   "id": "2efbeb14",
   "metadata": {},
   "outputs": [],
   "source": [
    "# Set a title\n",
    "\n",
    "chart.animate(\n",
    "    Config(\n",
    "        {\n",
    "            'x': 'Popularity',\n",
    "            'y': 'Genres',\n",
    "            'title': 'My first chart'\n",
    "        }\n",
    "    )\n",
    ")"
   ]
  },
  {
   "cell_type": "code",
   "execution_count": null,
   "id": "fda235bd",
   "metadata": {},
   "outputs": [],
   "source": [
    "# Add tooltips\n",
    "\n",
    "chart.animate(\n",
    "    Config(\n",
    "        {\n",
    "            'x': 'Popularity',\n",
    "            'y': 'Genres',\n",
    "            'title': 'My first chart'\n",
    "        }\n",
    "    )\n",
    ")\n",
    "\n",
    "chart.feature(\"tooltip\", True)"
   ]
  },
  {
   "cell_type": "markdown",
   "id": "97708121",
   "metadata": {},
   "source": [
    "<br></br>"
   ]
  },
  {
   "cell_type": "markdown",
   "id": "b8fb4673-d899-4d0b-88e3-64355ee58f07",
   "metadata": {},
   "source": [
    "## #3 Data Aggregation"
   ]
  },
  {
   "cell_type": "code",
   "execution_count": 4,
   "id": "a1d7c344-9982-4493-9f2d-c9642f9441e0",
   "metadata": {},
   "outputs": [
    {
     "data": {
      "application/javascript": [
       "if (window.IpyVizzu) { window.IpyVizzu.clearInhibitScroll(element); }"
      ]
     },
     "metadata": {},
     "output_type": "display_data"
    },
    {
     "data": {
      "application/javascript": [
       "window.ipyvizzu.animate(element, 'a7e624c', '3cee822', 'actual', false, lib => { return {\"config\": {\"x\": \"Genres\", \"y\": \"Popularity\", \"title\": \"Default aggregation logic\", \"label\": \"Popularity\"}} }, undefined);"
      ]
     },
     "metadata": {},
     "output_type": "display_data"
    }
   ],
   "source": [
    "# Show the default aggregation logic of sum\n",
    "\n",
    "chart.animate(\n",
    "    Config(\n",
    "        {\n",
    "            'x': 'Genres',\n",
    "            'y': 'Popularity',\n",
    "            'title': 'Default aggregation logic',\n",
    "            'label': 'Popularity'\n",
    "        }\n",
    "    )\n",
    ")"
   ]
  },
  {
   "cell_type": "code",
   "execution_count": 5,
   "id": "e6d1baa5-5f47-46f4-a083-d4221e1967ac",
   "metadata": {},
   "outputs": [
    {
     "data": {
      "application/javascript": [
       "if (window.IpyVizzu) { window.IpyVizzu.clearInhibitScroll(element); }"
      ]
     },
     "metadata": {},
     "output_type": "display_data"
    },
    {
     "data": {
      "application/javascript": [
       "window.ipyvizzu.animate(element, 'a7e624c', '2e6579f', 'actual', false, lib => { return {\"config\": {\"y\": \"min(Popularity)\", \"title\": \"Minimum of Popularity by Genre\", \"label\": \"min(Popularity)\"}} }, undefined);"
      ]
     },
     "metadata": {},
     "output_type": "display_data"
    }
   ],
   "source": [
    "# Min aggregation logic\n",
    "\n",
    "chart.animate(\n",
    "    Config(\n",
    "        {\n",
    "            'y': 'min(Popularity)',\n",
    "            'title': 'Minimum of Popularity by Genre',\n",
    "            'label': 'min(Popularity)'\n",
    "        }\n",
    "    )\n",
    ")"
   ]
  },
  {
   "cell_type": "code",
   "execution_count": 6,
   "id": "239e091c-14e2-432b-86c1-2723aa1f88ec",
   "metadata": {},
   "outputs": [
    {
     "data": {
      "application/javascript": [
       "if (window.IpyVizzu) { window.IpyVizzu.clearInhibitScroll(element); }"
      ]
     },
     "metadata": {},
     "output_type": "display_data"
    },
    {
     "data": {
      "application/javascript": [
       "window.ipyvizzu.animate(element, 'a7e624c', '4957c19', 'actual', false, lib => { return {\"config\": {\"y\": \"max(Popularity)\", \"title\": \"Maximum of Popularity by Genre\", \"label\": \"max(Popularity)\"}} }, undefined);"
      ]
     },
     "metadata": {},
     "output_type": "display_data"
    }
   ],
   "source": [
    "# Max aggregation logic\n",
    "\n",
    "chart.animate(\n",
    "    Config(\n",
    "        {\n",
    "            'y': 'max(Popularity)',\n",
    "            'title': 'Maximum of Popularity by Genre',\n",
    "            'label': 'max(Popularity)'\n",
    "        }\n",
    "    )\n",
    ") \n"
   ]
  },
  {
   "cell_type": "code",
   "execution_count": 7,
   "id": "411423e1-e80c-4a4a-9f12-763f0afc3d0c",
   "metadata": {},
   "outputs": [
    {
     "data": {
      "application/javascript": [
       "if (window.IpyVizzu) { window.IpyVizzu.clearInhibitScroll(element); }"
      ]
     },
     "metadata": {},
     "output_type": "display_data"
    },
    {
     "data": {
      "application/javascript": [
       "window.ipyvizzu.animate(element, 'a7e624c', '4c56ed6', 'actual', false, lib => { return {\"config\": {\"y\": \"mean(Popularity)\", \"title\": \"Mean of Popularity by Genre\", \"label\": \"mean(Popularity)\"}} }, undefined);"
      ]
     },
     "metadata": {},
     "output_type": "display_data"
    }
   ],
   "source": [
    "# Mean aggregation logic\n",
    "\n",
    "chart.animate(\n",
    "    Config(\n",
    "        {\n",
    "            'y': 'mean(Popularity)',\n",
    "            'title': 'Mean of Popularity by Genre',\n",
    "            'label': 'mean(Popularity)'\n",
    "        }\n",
    "    )\n",
    ")"
   ]
  },
  {
   "cell_type": "code",
   "execution_count": 8,
   "id": "30c486d1-d0e8-4682-9b77-35d80d1f57f8",
   "metadata": {},
   "outputs": [
    {
     "data": {
      "application/javascript": [
       "if (window.IpyVizzu) { window.IpyVizzu.clearInhibitScroll(element); }"
      ]
     },
     "metadata": {},
     "output_type": "display_data"
    },
    {
     "data": {
      "application/javascript": [
       "window.ipyvizzu.animate(element, 'a7e624c', 'c61338c', 'actual', false, lib => { return {\"config\": {\"y\": \"count()\", \"title\": \"Count of items by Genre\", \"label\": \"count()\"}} }, undefined);"
      ]
     },
     "metadata": {},
     "output_type": "display_data"
    }
   ],
   "source": [
    "# Count aggregation logic\n",
    "\n",
    "chart.animate(\n",
    "    Config(\n",
    "        {\n",
    "            'y': 'count()',\n",
    "            'title': 'Count of items by Genre',\n",
    "            'label': 'count()'\n",
    "        }\n",
    "    )\n",
    ")"
   ]
  },
  {
   "cell_type": "code",
   "execution_count": 9,
   "id": "d82a98e7-6568-4de4-9770-5bcb196a0f92",
   "metadata": {},
   "outputs": [
    {
     "data": {
      "application/javascript": [
       "if (window.IpyVizzu) { window.IpyVizzu.clearInhibitScroll(element); }"
      ]
     },
     "metadata": {},
     "output_type": "display_data"
    },
    {
     "data": {
      "application/javascript": [
       "window.ipyvizzu.animate(element, 'a7e624c', 'afaa91c', 'actual', false, lib => { return {\"config\": {\"y\": \"distinct(Kinds)\", \"title\": \"Distinct Kinds by Genre\", \"label\": \"distinct(Kinds)\"}} }, undefined);"
      ]
     },
     "metadata": {},
     "output_type": "display_data"
    }
   ],
   "source": [
    "# Distinct aggregation logic\n",
    "\n",
    "chart.animate(\n",
    "    Config(\n",
    "        {\n",
    "            'y': 'distinct(Kinds)',\n",
    "            'title': 'Distinct Kinds by Genre',\n",
    "            'label': 'distinct(Kinds)'\n",
    "        }\n",
    "    )\n",
    ")"
   ]
  },
  {
   "cell_type": "code",
   "execution_count": 23,
   "id": "eddddbb1-74b2-492c-b642-82d8f2a8cebb",
   "metadata": {},
   "outputs": [
    {
     "data": {
      "application/javascript": [
       "if (window.IpyVizzu) { window.IpyVizzu.clearInhibitScroll(element); }"
      ]
     },
     "metadata": {},
     "output_type": "display_data"
    },
    {
     "data": {
      "application/javascript": [
       "if (window.IpyVizzu) { window.IpyVizzu.clearInhibitScroll(element); }"
      ]
     },
     "metadata": {},
     "output_type": "display_data"
    },
    {
     "data": {
      "application/javascript": [
       "if (window.IpyVizzu) { window.IpyVizzu.clearInhibitScroll(element); }"
      ]
     },
     "metadata": {},
     "output_type": "display_data"
    },
    {
     "data": {
      "application/javascript": [
       "window.ipyvizzu.animate(element, '924c400', '505f23e', 'actual', false, lib => { return {\"config\": {\"y\": \"Popularity\", \"title\": \"Default aggregation logic\", \"label\": \"Popularity\"}} }, undefined);"
      ]
     },
     "metadata": {},
     "output_type": "display_data"
    }
   ],
   "source": [
    "# Return to default logic\n",
    "\n",
    "chart.animate(\n",
    "    Config(\n",
    "        {\n",
    "            'y': 'Popularity',\n",
    "            'title': 'Default aggregation logic',\n",
    "            'label': 'Popularity'\n",
    "        }\n",
    "    )\n",
    ")"
   ]
  },
  {
   "cell_type": "markdown",
   "id": "52ee8f27-9a3e-41a1-b216-cc142aaf0c2f",
   "metadata": {},
   "source": [
    "<br></br>"
   ]
  },
  {
   "cell_type": "markdown",
   "id": "ca619d1d-d24d-459c-bfae-c89055ff0308",
   "metadata": {},
   "source": [
    "## #4 How to Change Your Chart's Geometry"
   ]
  },
  {
   "cell_type": "code",
   "execution_count": 34,
   "id": "46892e27-a4af-4a93-842b-b24a37937068",
   "metadata": {},
   "outputs": [
    {
     "data": {
      "application/javascript": [
       "if (window.IpyVizzu) { window.IpyVizzu.clearInhibitScroll(element); }"
      ]
     },
     "metadata": {},
     "output_type": "display_data"
    },
    {
     "data": {
      "application/javascript": [
       "if (window.IpyVizzu) { window.IpyVizzu.clearInhibitScroll(element); }"
      ]
     },
     "metadata": {},
     "output_type": "display_data"
    },
    {
     "data": {
      "application/javascript": [
       "if (window.IpyVizzu) { window.IpyVizzu.clearInhibitScroll(element); }"
      ]
     },
     "metadata": {},
     "output_type": "display_data"
    },
    {
     "data": {
      "application/javascript": [
       "window.ipyvizzu.animate(element, '924c400', '383fb49', 'actual', false, lib => { return {\"config\": {\"x\": \"Genres\", \"y\": \"Popularity\", \"title\": null, \"label\": null}} }, undefined);"
      ]
     },
     "metadata": {},
     "output_type": "display_data"
    }
   ],
   "source": [
    "# Intial state\n",
    "\n",
    "chart.animate(\n",
    "    Config(\n",
    "        {\n",
    "            'x': 'Genres',\n",
    "            'y': 'Popularity',\n",
    "            'title': None,\n",
    "            'label': None\n",
    "        }\n",
    "    )\n",
    ")"
   ]
  },
  {
   "cell_type": "code",
   "execution_count": 30,
   "id": "bdb97b54-20d5-4dd8-928a-9eedab5a330d",
   "metadata": {},
   "outputs": [
    {
     "data": {
      "application/javascript": [
       "if (window.IpyVizzu) { window.IpyVizzu.clearInhibitScroll(element); }"
      ]
     },
     "metadata": {},
     "output_type": "display_data"
    },
    {
     "data": {
      "application/javascript": [
       "if (window.IpyVizzu) { window.IpyVizzu.clearInhibitScroll(element); }"
      ]
     },
     "metadata": {},
     "output_type": "display_data"
    },
    {
     "data": {
      "application/javascript": [
       "if (window.IpyVizzu) { window.IpyVizzu.clearInhibitScroll(element); }"
      ]
     },
     "metadata": {},
     "output_type": "display_data"
    },
    {
     "data": {
      "application/javascript": [
       "window.ipyvizzu.animate(element, '924c400', 'a13a2a3', 'actual', false, lib => { return {\"config\": {\"geometry\": \"area\"}} }, undefined);"
      ]
     },
     "metadata": {},
     "output_type": "display_data"
    }
   ],
   "source": [
    "# Change the defalut geometry, rectangle to area\n",
    "\n",
    "chart.animate(\n",
    "    Config(\n",
    "        {\n",
    "            'geometry': 'area'\n",
    "        }\n",
    "    )\n",
    ")"
   ]
  },
  {
   "cell_type": "code",
   "execution_count": 31,
   "id": "eb108ea5-5318-44ef-ba7e-4d91cb2d6733",
   "metadata": {},
   "outputs": [
    {
     "data": {
      "application/javascript": [
       "if (window.IpyVizzu) { window.IpyVizzu.clearInhibitScroll(element); }"
      ]
     },
     "metadata": {},
     "output_type": "display_data"
    },
    {
     "data": {
      "application/javascript": [
       "if (window.IpyVizzu) { window.IpyVizzu.clearInhibitScroll(element); }"
      ]
     },
     "metadata": {},
     "output_type": "display_data"
    },
    {
     "data": {
      "application/javascript": [
       "if (window.IpyVizzu) { window.IpyVizzu.clearInhibitScroll(element); }"
      ]
     },
     "metadata": {},
     "output_type": "display_data"
    },
    {
     "data": {
      "application/javascript": [
       "window.ipyvizzu.animate(element, '924c400', 'f43c18c', 'actual', false, lib => { return {\"config\": {\"geometry\": \"line\"}} }, undefined);"
      ]
     },
     "metadata": {},
     "output_type": "display_data"
    }
   ],
   "source": [
    "# Change geometry to line\n",
    "\n",
    "chart.animate(\n",
    "    Config(\n",
    "        {\n",
    "            'geometry': 'line'\n",
    "        }\n",
    "    )\n",
    ")"
   ]
  },
  {
   "cell_type": "code",
   "execution_count": 32,
   "id": "0f9415a3-eebd-4cdb-a11a-dc0eb07ed2da",
   "metadata": {},
   "outputs": [
    {
     "data": {
      "application/javascript": [
       "if (window.IpyVizzu) { window.IpyVizzu.clearInhibitScroll(element); }"
      ]
     },
     "metadata": {},
     "output_type": "display_data"
    },
    {
     "data": {
      "application/javascript": [
       "if (window.IpyVizzu) { window.IpyVizzu.clearInhibitScroll(element); }"
      ]
     },
     "metadata": {},
     "output_type": "display_data"
    },
    {
     "data": {
      "application/javascript": [
       "if (window.IpyVizzu) { window.IpyVizzu.clearInhibitScroll(element); }"
      ]
     },
     "metadata": {},
     "output_type": "display_data"
    },
    {
     "data": {
      "application/javascript": [
       "window.ipyvizzu.animate(element, '924c400', '476cefe', 'actual', false, lib => { return {\"config\": {\"geometry\": \"circle\"}} }, undefined);"
      ]
     },
     "metadata": {},
     "output_type": "display_data"
    }
   ],
   "source": [
    "# Change geometry to circle\n",
    "\n",
    "chart.animate(\n",
    "    Config(\n",
    "        {\n",
    "            'geometry': 'circle'\n",
    "        }\n",
    "    )\n",
    ")"
   ]
  },
  {
   "cell_type": "code",
   "execution_count": 33,
   "id": "64fa30fd-f393-48b2-b298-ffb2a908af0e",
   "metadata": {},
   "outputs": [
    {
     "data": {
      "application/javascript": [
       "if (window.IpyVizzu) { window.IpyVizzu.clearInhibitScroll(element); }"
      ]
     },
     "metadata": {},
     "output_type": "display_data"
    },
    {
     "data": {
      "application/javascript": [
       "if (window.IpyVizzu) { window.IpyVizzu.clearInhibitScroll(element); }"
      ]
     },
     "metadata": {},
     "output_type": "display_data"
    },
    {
     "data": {
      "application/javascript": [
       "if (window.IpyVizzu) { window.IpyVizzu.clearInhibitScroll(element); }"
      ]
     },
     "metadata": {},
     "output_type": "display_data"
    },
    {
     "data": {
      "application/javascript": [
       "window.ipyvizzu.animate(element, '924c400', '55e6538', 'actual', false, lib => { return {\"config\": {\"geometry\": \"rectangle\"}} }, undefined);"
      ]
     },
     "metadata": {},
     "output_type": "display_data"
    }
   ],
   "source": [
    "# Get back to rectangle\n",
    "\n",
    "chart.animate(\n",
    "    Config(\n",
    "        {\n",
    "            'geometry': 'rectangle'\n",
    "        }\n",
    "    )\n",
    ")"
   ]
  }
 ],
 "metadata": {
  "kernelspec": {
   "display_name": "Python 3 (ipykernel)",
   "language": "python",
   "name": "python3"
  },
  "language_info": {
   "codemirror_mode": {
    "name": "ipython",
    "version": 3
   },
   "file_extension": ".py",
   "mimetype": "text/x-python",
   "name": "python",
   "nbconvert_exporter": "python",
   "pygments_lexer": "ipython3",
   "version": "3.12.0"
  }
 },
 "nbformat": 4,
 "nbformat_minor": 5
}
