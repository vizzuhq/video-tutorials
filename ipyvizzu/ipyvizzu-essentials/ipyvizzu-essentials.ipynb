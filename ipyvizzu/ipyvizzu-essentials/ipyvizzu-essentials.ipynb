{
 "cells": [
  {
   "cell_type": "markdown",
   "id": "e0dabc3b",
   "metadata": {},
   "source": [
    "# ipyvizzu essentials"
   ]
  },
  {
   "cell_type": "markdown",
   "id": "dc7c772f",
   "metadata": {},
   "source": [
    "## #1 How to Create Your First Animated Chart"
   ]
  },
  {
   "cell_type": "markdown",
   "id": "71b79794",
   "metadata": {},
   "source": [
    "### Basic logic of ipyvizzu"
   ]
  },
  {
   "cell_type": "markdown",
   "id": "566602ad",
   "metadata": {},
   "source": [
    "<div>\n",
    "<img src=\"attachment:ipyvizzu-API-structure.svg\" width=\"600\"/>\n",
    "</div>"
   ]
  },
  {
   "cell_type": "markdown",
   "id": "bd71fade",
   "metadata": {},
   "source": [
    "### First example"
   ]
  },
  {
   "cell_type": "code",
   "execution_count": null,
   "id": "48947d42",
   "metadata": {
    "scrolled": true
   },
   "outputs": [],
   "source": [
    "pip install ipyvizzu "
   ]
  },
  {
   "cell_type": "code",
   "execution_count": null,
   "id": "7e492b54",
   "metadata": {
    "scrolled": true
   },
   "outputs": [],
   "source": [
    "# Create empty chart\n",
    "# Rerun this cell if you want to start over\n",
    "\n",
    "chart = Chart(width='100%', height='360px')"
   ]
  },
  {
   "cell_type": "code",
   "execution_count": null,
   "id": "d8fdf366",
   "metadata": {},
   "outputs": [],
   "source": [
    "# Create first chart\n",
    "# Default geometry: rectangle\n",
    "\n",
    "chart.animate(data,\n",
    "    Config(\n",
    "        {\n",
    "            'x': 'Genres',\n",
    "            'y': 'Popularity',\n",
    "        }\n",
    "    )\n",
    ")"
   ]
  },
  {
   "cell_type": "code",
   "execution_count": null,
   "id": "103b8fd8",
   "metadata": {},
   "outputs": [],
   "source": [
    "# Create second chart by adding the dimension to the y-axis \n",
    "# and remove it from the x-axis\n",
    "\n",
    "chart.animate(\n",
    "    Config(\n",
    "        {\n",
    "            'x': None,\n",
    "            'y': ['Popularity', 'Genres']\n",
    "        }\n",
    "    )\n",
    ")"
   ]
  }
 ],
 "metadata": {
  "kernelspec": {
   "display_name": "Python 3 (ipykernel)",
   "language": "python",
   "name": "python3"
  },
  "language_info": {
   "codemirror_mode": {
    "name": "ipython",
    "version": 3
   },
   "file_extension": ".py",
   "mimetype": "text/x-python",
   "name": "python",
   "nbconvert_exporter": "python",
   "pygments_lexer": "ipython3",
   "version": "3.10.4"
  }
 },
 "nbformat": 4,
 "nbformat_minor": 5
}
