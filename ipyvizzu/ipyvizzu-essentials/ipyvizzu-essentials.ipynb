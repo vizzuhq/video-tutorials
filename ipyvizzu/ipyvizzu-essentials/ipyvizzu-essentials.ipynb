{
 "cells": [
  {
   "cell_type": "markdown",
   "id": "e0dabc3b",
   "metadata": {},
   "source": [
    "# ipyvizzu essentials"
   ]
  },
  {
   "cell_type": "markdown",
   "id": "dc7c772f",
   "metadata": {},
   "source": [
    "## #1 How to Create Your First Animated Chart"
   ]
  },
  {
   "cell_type": "markdown",
   "id": "71b79794",
   "metadata": {},
   "source": [
    "### Basic logic of ipyvizzu"
   ]
  },
  {
   "cell_type": "markdown",
   "id": "566602ad",
   "metadata": {},
   "source": [
    "<div>\n",
    "<img src=\"attachment:ipyvizzu-API-structure.svg\" width=\"600\"/>\n",
    "</div>"
   ]
  },
  {
   "cell_type": "markdown",
   "id": "bd71fade",
   "metadata": {},
   "source": [
    "### First example"
   ]
  },
  {
   "cell_type": "code",
   "execution_count": null,
   "id": "48947d42",
   "metadata": {
    "scrolled": true
   },
   "outputs": [],
   "source": [
    "pip install ipyvizzu "
   ]
  },
  {
   "cell_type": "code",
   "execution_count": null,
   "id": "250cd61a",
   "metadata": {},
   "outputs": [],
   "source": [
    "# Import components, add data to pandas data frame\n",
    "\n",
    "import pandas as pd\n",
    "from ipyvizzu import Chart, Data, Config\n",
    "\n",
    "# Add our data set to a data frame\n",
    "data_frame = pd.read_csv(\n",
    "    \"https://ipyvizzu.vizzuhq.com/latest/assets/data/music_data.csv\"\n",
    ")\n",
    "\n",
    "data = Data()\n",
    "data.add_df(data_frame)\n",
    "\n",
    "data_frame.head(7)"
   ]
  },
  {
   "cell_type": "code",
   "execution_count": null,
   "id": "7e492b54",
   "metadata": {
    "scrolled": true
   },
   "outputs": [],
   "source": [
    "# Create empty chart\n",
    "# Rerun this cell if you want to start over\n",
    "\n",
    "chart = Chart(width='100%', height='360px')\n",
    "chart.animate(data)"
   ]
  },
  {
   "cell_type": "code",
   "execution_count": null,
   "id": "d8fdf366",
   "metadata": {},
   "outputs": [],
   "source": [
    "# Create first chart\n",
    "# Default geometry: rectangle\n",
    "\n",
    "chart.animate(\n",
    "    Config(\n",
    "        {\n",
    "            'x': 'Genres',\n",
    "            'y': 'Popularity',\n",
    "        }\n",
    "    )\n",
    ")"
   ]
  },
  {
   "cell_type": "code",
   "execution_count": null,
   "id": "103b8fd8",
   "metadata": {},
   "outputs": [],
   "source": [
    "# Create second chart by adding the dimension to the y-axis and remove it from the x-axis\n",
    "\n",
    "chart.animate(\n",
    "    Config(\n",
    "        {\n",
    "            'x': None,\n",
    "            'y': ['Popularity', 'Genres']\n",
    "        }\n",
    "    )\n",
    ")"
   ]
  },
  {
   "cell_type": "markdown",
   "id": "3cbeaedf",
   "metadata": {},
   "source": [
    "<br></br>"
   ]
  },
  {
   "cell_type": "markdown",
   "id": "d0b6a59b",
   "metadata": {},
   "source": [
    "\n",
    "\n",
    "\n",
    "\n",
    "\n",
    "\n",
    "\n",
    "\n",
    "\n",
    "\n",
    "\n",
    "\n",
    "\n",
    "## #2 How to Change Axes, Add Title & Tooltips"
   ]
  },
  {
   "cell_type": "code",
   "execution_count": null,
   "id": "2fa53223",
   "metadata": {},
   "outputs": [],
   "source": [
    "# Previously on ipyvizzu essentials...\n",
    "\n",
    "chart.animate(data,\n",
    "    Config(\n",
    "        {\n",
    "            'y': ['Popularity', 'Genres']\n",
    "        }\n",
    "    )\n",
    ")"
   ]
  },
  {
   "cell_type": "markdown",
   "id": "7e061667",
   "metadata": {},
   "source": [
    "### Rearrange our chart"
   ]
  },
  {
   "cell_type": "code",
   "execution_count": null,
   "id": "6c8e6b59",
   "metadata": {},
   "outputs": [],
   "source": [
    "# Create a bar chart configuration by adding the measure to the x-axis instead of the y-axis\n",
    "\n",
    "chart.animate(\n",
    "    Config(\n",
    "        {\n",
    "            'x': 'Popularity',\n",
    "            'y': 'Genres'\n",
    "        }\n",
    "    )\n",
    ")"
   ]
  },
  {
   "cell_type": "code",
   "execution_count": null,
   "id": "2efbeb14",
   "metadata": {},
   "outputs": [],
   "source": [
    "# Set a title\n",
    "\n",
    "chart.animate(\n",
    "    Config(\n",
    "        {\n",
    "            'x': 'Popularity',\n",
    "            'y': 'Genres',\n",
    "            'title': 'My first chart'\n",
    "        }\n",
    "    )\n",
    ")"
   ]
  },
  {
   "cell_type": "code",
   "execution_count": null,
   "id": "fda235bd",
   "metadata": {},
   "outputs": [],
   "source": [
    "# Add tooltips\n",
    "\n",
    "chart.animate(\n",
    "    Config(\n",
    "        {\n",
    "            'x': 'Popularity',\n",
    "            'y': 'Genres',\n",
    "            'title': 'My first chart'\n",
    "        }\n",
    "    )\n",
    ")\n",
    "\n",
    "chart.feature(\"tooltip\", True)"
   ]
  },
  {
   "cell_type": "markdown",
   "id": "97708121",
   "metadata": {},
   "source": [
    "<br></br>"
   ]
  },
  {
   "cell_type": "markdown",
   "id": "b8fb4673-d899-4d0b-88e3-64355ee58f07",
   "metadata": {},
   "source": [
    "## #3 Data Aggregation"
   ]
  },
  {
   "cell_type": "code",
   "execution_count": null,
   "id": "a1d7c344-9982-4493-9f2d-c9642f9441e0",
   "metadata": {},
   "outputs": [],
   "source": [
    "# Show the default aggregation logic of sum\n",
    "\n",
    "chart.animate(\n",
    "    Config(\n",
    "        {\n",
    "            'x': 'Genres',\n",
    "            'y': 'Popularity',\n",
    "            'title': 'Default aggregation logic',\n",
    "            'label': 'Popularity'\n",
    "        }\n",
    "    )\n",
    ")"
   ]
  },
  {
   "cell_type": "code",
   "execution_count": null,
   "id": "e6d1baa5-5f47-46f4-a083-d4221e1967ac",
   "metadata": {},
   "outputs": [],
   "source": [
    "# Min aggregation logic\n",
    "\n",
    "chart.animate(\n",
    "    Config(\n",
    "        {\n",
    "            'y': 'min(Popularity)',\n",
    "            'title': 'Minimum of Popularity by Genre',\n",
    "            'label': 'min(Popularity)'\n",
    "        }\n",
    "    )\n",
    ")"
   ]
  },
  {
   "cell_type": "code",
   "execution_count": null,
   "id": "239e091c-14e2-432b-86c1-2723aa1f88ec",
   "metadata": {},
   "outputs": [],
   "source": [
    "# Max aggregation logic\n",
    "\n",
    "chart.animate(\n",
    "    Config(\n",
    "        {\n",
    "            'y': 'max(Popularity)',\n",
    "            'title': 'Maximum of Popularity by Genre',\n",
    "            'label': 'max(Popularity)'\n",
    "        }\n",
    "    )\n",
    ") \n"
   ]
  },
  {
   "cell_type": "code",
   "execution_count": null,
   "id": "411423e1-e80c-4a4a-9f12-763f0afc3d0c",
   "metadata": {},
   "outputs": [],
   "source": [
    "# Mean aggregation logic\n",
    "\n",
    "chart.animate(\n",
    "    Config(\n",
    "        {\n",
    "            'y': 'mean(Popularity)',\n",
    "            'title': 'Mean of Popularity by Genre',\n",
    "            'label': 'mean(Popularity)'\n",
    "        }\n",
    "    )\n",
    ")"
   ]
  },
  {
   "cell_type": "code",
   "execution_count": null,
   "id": "30c486d1-d0e8-4682-9b77-35d80d1f57f8",
   "metadata": {},
   "outputs": [],
   "source": [
    "# Count aggregation logic\n",
    "\n",
    "chart.animate(\n",
    "    Config(\n",
    "        {\n",
    "            'y': 'count()',\n",
    "            'title': 'Count of items by Genre',\n",
    "            'label': 'count()'\n",
    "        }\n",
    "    )\n",
    ")"
   ]
  },
  {
   "cell_type": "code",
   "execution_count": null,
   "id": "d82a98e7-6568-4de4-9770-5bcb196a0f92",
   "metadata": {},
   "outputs": [],
   "source": [
    "# Distinct aggregation logic\n",
    "\n",
    "chart.animate(\n",
    "    Config(\n",
    "        {\n",
    "            'y': 'distinct(Kinds)',\n",
    "            'title': 'Distinct Kinds by Genre',\n",
    "            'label': 'distinct(Kinds)'\n",
    "        }\n",
    "    )\n",
    ")"
   ]
  },
  {
   "cell_type": "code",
   "execution_count": null,
   "id": "eddddbb1-74b2-492c-b642-82d8f2a8cebb",
   "metadata": {},
   "outputs": [],
   "source": [
    "# Return to default logic\n",
    "\n",
    "chart.animate(\n",
    "    Config(\n",
    "        {\n",
    "            'y': 'Popularity',\n",
    "            'title': 'Default aggregation logic',\n",
    "            'label': 'Popularity'\n",
    "        }\n",
    "    )\n",
    ")"
   ]
  },
  {
   "cell_type": "markdown",
   "id": "52ee8f27-9a3e-41a1-b216-cc142aaf0c2f",
   "metadata": {},
   "source": [
    "<br></br>"
   ]
  },
  {
   "cell_type": "markdown",
   "id": "ca619d1d-d24d-459c-bfae-c89055ff0308",
   "metadata": {},
   "source": [
    "## #4 How to Change Your Chart's Geometry"
   ]
  },
  {
   "cell_type": "code",
   "execution_count": null,
   "id": "46892e27-a4af-4a93-842b-b24a37937068",
   "metadata": {},
   "outputs": [],
   "source": [
    "# Intial state\n",
    "\n",
    "chart.animate(\n",
    "    Config(\n",
    "        {\n",
    "            'x': 'Genres',\n",
    "            'y': 'Popularity',\n",
    "            'title': None,\n",
    "            'label': None\n",
    "        }\n",
    "    )\n",
    ")"
   ]
  },
  {
   "cell_type": "code",
   "execution_count": null,
   "id": "bdb97b54-20d5-4dd8-928a-9eedab5a330d",
   "metadata": {},
   "outputs": [],
   "source": [
    "# Change the defalut geometry, rectangle to area\n",
    "\n",
    "chart.animate(\n",
    "    Config(\n",
    "        {\n",
    "            'geometry': 'area'\n",
    "        }\n",
    "    )\n",
    ")"
   ]
  },
  {
   "cell_type": "code",
   "execution_count": null,
   "id": "eb108ea5-5318-44ef-ba7e-4d91cb2d6733",
   "metadata": {},
   "outputs": [],
   "source": [
    "# Change geometry to line\n",
    "\n",
    "chart.animate(\n",
    "    Config(\n",
    "        {\n",
    "            'geometry': 'line'\n",
    "        }\n",
    "    )\n",
    ")"
   ]
  },
  {
   "cell_type": "code",
   "execution_count": null,
   "id": "0f9415a3-eebd-4cdb-a11a-dc0eb07ed2da",
   "metadata": {},
   "outputs": [],
   "source": [
    "# Change geometry to circle\n",
    "\n",
    "chart.animate(\n",
    "    Config(\n",
    "        {\n",
    "            'geometry': 'circle'\n",
    "        }\n",
    "    )\n",
    ")"
   ]
  },
  {
   "cell_type": "code",
   "execution_count": null,
   "id": "64fa30fd-f393-48b2-b298-ffb2a908af0e",
   "metadata": {},
   "outputs": [],
   "source": [
    "# Get back to rectangle\n",
    "\n",
    "chart.animate(\n",
    "    Config(\n",
    "        {\n",
    "            'geometry': 'rectangle'\n",
    "        }\n",
    "    )\n",
    ")"
   ]
  }
 ],
 "metadata": {
  "kernelspec": {
   "display_name": "Python 3 (ipykernel)",
   "language": "python",
   "name": "python3"
  },
  "language_info": {
   "codemirror_mode": {
    "name": "ipython",
    "version": 3
   },
   "file_extension": ".py",
   "mimetype": "text/x-python",
   "name": "python",
   "nbconvert_exporter": "python",
   "pygments_lexer": "ipython3",
   "version": "3.12.0"
  }
 },
 "nbformat": 4,
 "nbformat_minor": 5
}
