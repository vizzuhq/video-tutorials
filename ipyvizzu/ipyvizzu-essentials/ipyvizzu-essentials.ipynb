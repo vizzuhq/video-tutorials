{
 "cells": [
  {
   "cell_type": "markdown",
   "id": "e0dabc3b",
   "metadata": {},
   "source": [
    "# ipyvizzu essentials"
   ]
  },
  {
   "cell_type": "markdown",
   "id": "dc7c772f",
   "metadata": {},
   "source": [
    "## #1 How to Create Your First Animated Chart"
   ]
  },
  {
   "cell_type": "markdown",
   "id": "71b79794",
   "metadata": {},
   "source": [
    "### Basic logic of ipyvizzu"
   ]
  },
  {
   "cell_type": "markdown",
   "id": "566602ad",
   "metadata": {},
   "source": [
    "<div>\n",
    "<img src=\"attachment:ipyvizzu-API-structure.svg\" width=\"600\"/>\n",
    "</div>"
   ]
  },
  {
   "cell_type": "markdown",
   "id": "bd71fade",
   "metadata": {},
   "source": [
    "### First example"
   ]
  },
  {
   "cell_type": "code",
   "execution_count": null,
   "id": "48947d42",
   "metadata": {
    "scrolled": true
   },
   "outputs": [],
   "source": [
    "pip install ipyvizzu "
   ]
  },
  {
   "cell_type": "code",
   "execution_count": null,
   "id": "250cd61a",
   "metadata": {},
   "outputs": [],
   "source": [
    "# Import components, add data to pandas data frame\n",
    "\n",
    "import pandas as pd\n",
    "from ipyvizzu import Chart, Data, Config\n",
    "\n",
    "# Add our data set to a data frame\n",
    "data_frame = pd.read_csv(\n",
    "    \"https://ipyvizzu.vizzuhq.com/latest/assets/data/music_data.csv\"\n",
    ")\n",
    "\n",
    "data = Data()\n",
    "data.add_df(data_frame)\n",
    "\n",
    "data_frame.head(7)"
   ]
  },
  {
   "cell_type": "code",
   "execution_count": null,
   "id": "7e492b54",
   "metadata": {
    "scrolled": true
   },
   "outputs": [],
   "source": [
    "# Create empty chart\n",
    "# Rerun this cell if you want to start over\n",
    "\n",
    "chart = Chart(width='100%', height='360px')"
   ]
  },
  {
   "cell_type": "code",
   "execution_count": null,
   "id": "d8fdf366",
   "metadata": {},
   "outputs": [],
   "source": [
    "# Create first chart\n",
    "# Default geometry: rectangle\n",
    "\n",
    "chart.animate(data,\n",
    "    Config(\n",
    "        {\n",
    "            'x': 'Genres',\n",
    "            'y': 'Popularity',\n",
    "        }\n",
    "    )\n",
    ")"
   ]
  },
  {
   "cell_type": "code",
   "execution_count": null,
   "id": "103b8fd8",
   "metadata": {},
   "outputs": [],
   "source": [
    "# Create second chart by adding the dimension to the y-axis and remove it from the x-axis\n",
    "\n",
    "chart.animate(\n",
    "    Config(\n",
    "        {\n",
    "            'x': None,\n",
    "            'y': ['Popularity', 'Genres']\n",
    "        }\n",
    "    )\n",
    ")"
   ]
  },
  {
   "cell_type": "markdown",
   "id": "3cbeaedf",
   "metadata": {},
   "source": [
    "<br></br>"
   ]
  },
  {
   "cell_type": "markdown",
   "id": "d0b6a59b",
   "metadata": {},
   "source": [
    "\n",
    "\n",
    "\n",
    "\n",
    "\n",
    "\n",
    "\n",
    "\n",
    "\n",
    "\n",
    "\n",
    "\n",
    "\n",
    "## #2 How to Change Axes, Add Title & Tooltips"
   ]
  },
  {
   "cell_type": "code",
   "execution_count": null,
   "id": "2fa53223",
   "metadata": {},
   "outputs": [],
   "source": [
    "# Previously on ipyvizzu essentials...\n",
    "\n",
    "chart.animate(data,\n",
    "    Config(\n",
    "        {\n",
    "            'y': ['Popularity', 'Genres']\n",
    "        }\n",
    "    )\n",
    ")"
   ]
  },
  {
   "cell_type": "markdown",
   "id": "7e061667",
   "metadata": {},
   "source": [
    "### Rearrange our chart"
   ]
  },
  {
   "cell_type": "code",
   "execution_count": null,
   "id": "6c8e6b59",
   "metadata": {},
   "outputs": [],
   "source": [
    "# Create a bar chart configuration by adding the measure to the x-axis instead of the y-axis\n",
    "\n",
    "chart.animate(\n",
    "    Config(\n",
    "        {\n",
    "            'x': 'Popularity',\n",
    "            'y': 'Genres'\n",
    "        }\n",
    "    )\n",
    ")"
   ]
  },
  {
   "cell_type": "markdown",
   "id": "843a4d51",
   "metadata": {},
   "source": [
    "### Set a title"
   ]
  },
  {
   "cell_type": "code",
   "execution_count": null,
   "id": "2efbeb14",
   "metadata": {},
   "outputs": [],
   "source": [
    "chart.animate(\n",
    "    Config(\n",
    "        {\n",
    "            'x': 'Popularity',\n",
    "            'y': 'Genres',\n",
    "            'title': 'My first chart'\n",
    "        }\n",
    "    )\n",
    ")"
   ]
  },
  {
   "cell_type": "markdown",
   "id": "56c13ee5",
   "metadata": {},
   "source": [
    "### Add tooltips"
   ]
  },
  {
   "cell_type": "code",
   "execution_count": null,
   "id": "fda235bd",
   "metadata": {},
   "outputs": [],
   "source": [
    "chart.animate(\n",
    "    Config(\n",
    "        {\n",
    "            'x': 'Popularity',\n",
    "            'y': 'Genres',\n",
    "            'title': 'My first chart'\n",
    "        }\n",
    "    )\n",
    ")\n",
    "\n",
    "chart.feature(\"tooltip\", True)"
   ]
  },
  {
   "cell_type": "markdown",
   "id": "97708121",
   "metadata": {},
   "source": [
    "<br></br>"
   ]
  }
 ],
 "metadata": {
  "kernelspec": {
   "display_name": "Python 3 (ipykernel)",
   "language": "python",
   "name": "python3"
  },
  "language_info": {
   "codemirror_mode": {
    "name": "ipython",
    "version": 3
   },
   "file_extension": ".py",
   "mimetype": "text/x-python",
   "name": "python",
   "nbconvert_exporter": "python",
   "pygments_lexer": "ipython3",
   "version": "3.10.4"
  }
 },
 "nbformat": 4,
 "nbformat_minor": 5
}
